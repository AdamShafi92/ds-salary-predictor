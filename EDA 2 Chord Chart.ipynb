{
 "cells": [
  {
   "cell_type": "code",
   "execution_count": 120,
   "metadata": {},
   "outputs": [],
   "source": [
    "import numpy as np\n",
    "import pandas as pd\n",
    "\n",
    "import datapane as dp\n",
    "\n",
    "from sklearn.feature_extraction.text import CountVectorizer\n",
    "from nltk.tokenize import TweetTokenizer\n",
    "\n",
    "from chord import Chord\n",
    "from IPython.display import IFrame"
   ]
  },
  {
   "cell_type": "code",
   "execution_count": 121,
   "metadata": {},
   "outputs": [
    {
     "data": {
      "text/html": [
       "<div>\n",
       "<style scoped>\n",
       "    .dataframe tbody tr th:only-of-type {\n",
       "        vertical-align: middle;\n",
       "    }\n",
       "\n",
       "    .dataframe tbody tr th {\n",
       "        vertical-align: top;\n",
       "    }\n",
       "\n",
       "    .dataframe thead th {\n",
       "        text-align: right;\n",
       "    }\n",
       "</style>\n",
       "<table border=\"1\" class=\"dataframe\">\n",
       "  <thead>\n",
       "    <tr style=\"text-align: right;\">\n",
       "      <th></th>\n",
       "      <th>Title</th>\n",
       "      <th>Location</th>\n",
       "      <th>salary_period</th>\n",
       "      <th>mid_salary</th>\n",
       "      <th>Employees</th>\n",
       "      <th>Industry</th>\n",
       "      <th>Revenue</th>\n",
       "      <th>description</th>\n",
       "      <th>years_exp</th>\n",
       "      <th>title_category</th>\n",
       "    </tr>\n",
       "  </thead>\n",
       "  <tbody>\n",
       "    <tr>\n",
       "      <th>0</th>\n",
       "      <td>high statistical data scientist g</td>\n",
       "      <td>London</td>\n",
       "      <td>year</td>\n",
       "      <td>28996.0</td>\n",
       "      <td>no_data</td>\n",
       "      <td>no_data</td>\n",
       "      <td>no_data</td>\n",
       "      <td>role require apply knowledge statistic program...</td>\n",
       "      <td>no_data</td>\n",
       "      <td>Scientist</td>\n",
       "    </tr>\n",
       "  </tbody>\n",
       "</table>\n",
       "</div>"
      ],
      "text/plain": [
       "                               Title Location salary_period  mid_salary  \\\n",
       "0  high statistical data scientist g   London          year     28996.0   \n",
       "\n",
       "  Employees Industry  Revenue  \\\n",
       "0   no_data  no_data  no_data   \n",
       "\n",
       "                                         description years_exp title_category  \n",
       "0  role require apply knowledge statistic program...   no_data      Scientist  "
      ]
     },
     "execution_count": 121,
     "metadata": {},
     "output_type": "execute_result"
    }
   ],
   "source": [
    "df = pd.read_csv('../modelling/jobs_desc.csv')\n",
    "df.head(1)"
   ]
  },
  {
   "cell_type": "code",
   "execution_count": 122,
   "metadata": {},
   "outputs": [],
   "source": [
    "hard_skills = ['sql','python',' r ','tensorflow','pytorch','deep learning','machine learning',\n",
    "               'spark','statistics','aws','bigquery','hadoop','java','scala','nlp','etl','matlab',\n",
    "               'scikit','numpy','keras','computer vision','tableau','looker','powerbi']"
   ]
  },
  {
   "cell_type": "code",
   "execution_count": 123,
   "metadata": {},
   "outputs": [],
   "source": [
    "soft_skills = ['team work','communication',' management ','project management','stakeholder management',\n",
    "               'insight','commercial','present','impact','production']"
   ]
  },
  {
   "cell_type": "code",
   "execution_count": 124,
   "metadata": {},
   "outputs": [],
   "source": [
    "tk = TweetTokenizer()\n",
    "desc_cvec = CountVectorizer(ngram_range=(1,2),tokenizer=tk.tokenize)"
   ]
  },
  {
   "cell_type": "code",
   "execution_count": 125,
   "metadata": {},
   "outputs": [
    {
     "name": "stderr",
     "output_type": "stream",
     "text": [
      "/opt/anaconda3/lib/python3.7/site-packages/sklearn/feature_extraction/text.py:507: UserWarning: The parameter 'token_pattern' will not be used since 'tokenizer' is not None'\n",
      "  warnings.warn(\"The parameter 'token_pattern' will not be used\"\n"
     ]
    }
   ],
   "source": [
    "desc_cvec.fit(df['description'])\n",
    "desc_vec = desc_cvec.transform(df['description']).todense()\n",
    "cols = desc_cvec.get_feature_names()\n",
    "df_words = pd.DataFrame(desc_vec, columns = cols)"
   ]
  },
  {
   "cell_type": "code",
   "execution_count": 140,
   "metadata": {},
   "outputs": [],
   "source": [
    "hard_skills_2=[i.strip() for i in hard_skills]"
   ]
  },
  {
   "cell_type": "code",
   "execution_count": 141,
   "metadata": {},
   "outputs": [],
   "source": [
    "df_plot = df_words[hard_skills_2]"
   ]
  },
  {
   "cell_type": "code",
   "execution_count": 145,
   "metadata": {},
   "outputs": [],
   "source": [
    "def create_zeros(df):\n",
    "    df = df.copy()\n",
    "    size = df.shape[0]\n",
    "    sizes = []\n",
    "    for i in range(size):\n",
    "        sizes.append(df.iloc[i,i])\n",
    "        df.iloc[i,i] = 0\n",
    "    return sizes, df"
   ]
  },
  {
   "cell_type": "code",
   "execution_count": 146,
   "metadata": {},
   "outputs": [],
   "source": [
    "def percent(sizes, df):\n",
    "    df = df.copy()\n",
    "    size = df.shape[0]\n",
    "    for i in range(size):\n",
    "        df.iloc[i,:] = df.iloc[i,:]/sizes[i]\n",
    "    return df"
   ]
  },
  {
   "cell_type": "code",
   "execution_count": 147,
   "metadata": {},
   "outputs": [
    {
     "data": {
      "text/html": [
       "<div>\n",
       "<style scoped>\n",
       "    .dataframe tbody tr th:only-of-type {\n",
       "        vertical-align: middle;\n",
       "    }\n",
       "\n",
       "    .dataframe tbody tr th {\n",
       "        vertical-align: top;\n",
       "    }\n",
       "\n",
       "    .dataframe thead th {\n",
       "        text-align: right;\n",
       "    }\n",
       "</style>\n",
       "<table border=\"1\" class=\"dataframe\">\n",
       "  <thead>\n",
       "    <tr style=\"text-align: right;\">\n",
       "      <th></th>\n",
       "      <th>sql</th>\n",
       "      <th>python</th>\n",
       "      <th>r</th>\n",
       "      <th>tensorflow</th>\n",
       "      <th>pytorch</th>\n",
       "      <th>deep learning</th>\n",
       "      <th>machine learning</th>\n",
       "      <th>spark</th>\n",
       "      <th>statistics</th>\n",
       "      <th>aws</th>\n",
       "      <th>...</th>\n",
       "      <th>etl</th>\n",
       "      <th>matlab</th>\n",
       "      <th>scikit</th>\n",
       "      <th>numpy</th>\n",
       "      <th>keras</th>\n",
       "      <th>computer vision</th>\n",
       "      <th>language</th>\n",
       "      <th>tableau</th>\n",
       "      <th>looker</th>\n",
       "      <th>powerbi</th>\n",
       "    </tr>\n",
       "  </thead>\n",
       "  <tbody>\n",
       "    <tr>\n",
       "      <th>sql</th>\n",
       "      <td>1053</td>\n",
       "      <td>468</td>\n",
       "      <td>292</td>\n",
       "      <td>22</td>\n",
       "      <td>11</td>\n",
       "      <td>29</td>\n",
       "      <td>102</td>\n",
       "      <td>46</td>\n",
       "      <td>11</td>\n",
       "      <td>99</td>\n",
       "      <td>...</td>\n",
       "      <td>137</td>\n",
       "      <td>11</td>\n",
       "      <td>24</td>\n",
       "      <td>16</td>\n",
       "      <td>3</td>\n",
       "      <td>8</td>\n",
       "      <td>144</td>\n",
       "      <td>245</td>\n",
       "      <td>45</td>\n",
       "      <td>394</td>\n",
       "    </tr>\n",
       "    <tr>\n",
       "      <th>python</th>\n",
       "      <td>468</td>\n",
       "      <td>887</td>\n",
       "      <td>418</td>\n",
       "      <td>90</td>\n",
       "      <td>58</td>\n",
       "      <td>102</td>\n",
       "      <td>283</td>\n",
       "      <td>97</td>\n",
       "      <td>12</td>\n",
       "      <td>169</td>\n",
       "      <td>...</td>\n",
       "      <td>68</td>\n",
       "      <td>38</td>\n",
       "      <td>57</td>\n",
       "      <td>49</td>\n",
       "      <td>14</td>\n",
       "      <td>56</td>\n",
       "      <td>207</td>\n",
       "      <td>142</td>\n",
       "      <td>32</td>\n",
       "      <td>157</td>\n",
       "    </tr>\n",
       "    <tr>\n",
       "      <th>r</th>\n",
       "      <td>292</td>\n",
       "      <td>418</td>\n",
       "      <td>534</td>\n",
       "      <td>25</td>\n",
       "      <td>15</td>\n",
       "      <td>45</td>\n",
       "      <td>122</td>\n",
       "      <td>24</td>\n",
       "      <td>11</td>\n",
       "      <td>42</td>\n",
       "      <td>...</td>\n",
       "      <td>21</td>\n",
       "      <td>30</td>\n",
       "      <td>10</td>\n",
       "      <td>15</td>\n",
       "      <td>3</td>\n",
       "      <td>18</td>\n",
       "      <td>122</td>\n",
       "      <td>99</td>\n",
       "      <td>10</td>\n",
       "      <td>117</td>\n",
       "    </tr>\n",
       "    <tr>\n",
       "      <th>tensorflow</th>\n",
       "      <td>22</td>\n",
       "      <td>90</td>\n",
       "      <td>25</td>\n",
       "      <td>98</td>\n",
       "      <td>52</td>\n",
       "      <td>47</td>\n",
       "      <td>65</td>\n",
       "      <td>18</td>\n",
       "      <td>1</td>\n",
       "      <td>23</td>\n",
       "      <td>...</td>\n",
       "      <td>4</td>\n",
       "      <td>5</td>\n",
       "      <td>34</td>\n",
       "      <td>27</td>\n",
       "      <td>14</td>\n",
       "      <td>27</td>\n",
       "      <td>24</td>\n",
       "      <td>3</td>\n",
       "      <td>0</td>\n",
       "      <td>4</td>\n",
       "    </tr>\n",
       "    <tr>\n",
       "      <th>pytorch</th>\n",
       "      <td>11</td>\n",
       "      <td>58</td>\n",
       "      <td>15</td>\n",
       "      <td>52</td>\n",
       "      <td>63</td>\n",
       "      <td>30</td>\n",
       "      <td>42</td>\n",
       "      <td>7</td>\n",
       "      <td>1</td>\n",
       "      <td>12</td>\n",
       "      <td>...</td>\n",
       "      <td>3</td>\n",
       "      <td>3</td>\n",
       "      <td>23</td>\n",
       "      <td>18</td>\n",
       "      <td>13</td>\n",
       "      <td>26</td>\n",
       "      <td>17</td>\n",
       "      <td>1</td>\n",
       "      <td>0</td>\n",
       "      <td>1</td>\n",
       "    </tr>\n",
       "  </tbody>\n",
       "</table>\n",
       "<p>5 rows × 25 columns</p>\n",
       "</div>"
      ],
      "text/plain": [
       "             sql  python    r  tensorflow  pytorch  deep learning  \\\n",
       "sql         1053     468  292          22       11             29   \n",
       "python       468     887  418          90       58            102   \n",
       "r            292     418  534          25       15             45   \n",
       "tensorflow    22      90   25          98       52             47   \n",
       "pytorch       11      58   15          52       63             30   \n",
       "\n",
       "            machine learning  spark  statistics  aws  ...  etl  matlab  \\\n",
       "sql                      102     46          11   99  ...  137      11   \n",
       "python                   283     97          12  169  ...   68      38   \n",
       "r                        122     24          11   42  ...   21      30   \n",
       "tensorflow                65     18           1   23  ...    4       5   \n",
       "pytorch                   42      7           1   12  ...    3       3   \n",
       "\n",
       "            scikit  numpy  keras  computer vision  language  tableau  looker  \\\n",
       "sql             24     16      3                8       144      245      45   \n",
       "python          57     49     14               56       207      142      32   \n",
       "r               10     15      3               18       122       99      10   \n",
       "tensorflow      34     27     14               27        24        3       0   \n",
       "pytorch         23     18     13               26        17        1       0   \n",
       "\n",
       "            powerbi  \n",
       "sql             394  \n",
       "python          157  \n",
       "r               117  \n",
       "tensorflow        4  \n",
       "pytorch           1  \n",
       "\n",
       "[5 rows x 25 columns]"
      ]
     },
     "execution_count": 147,
     "metadata": {},
     "output_type": "execute_result"
    }
   ],
   "source": [
    "matrix2 = df_plot2.T.dot(df_plot2)\n",
    "matrix2.head()"
   ]
  },
  {
   "cell_type": "code",
   "execution_count": 148,
   "metadata": {},
   "outputs": [],
   "source": [
    "maxi, matrix_2_2 = create_zeros(matrix2)\n",
    "matrix_2_3 = percent(maxi, matrix_2_2)"
   ]
  },
  {
   "cell_type": "code",
   "execution_count": 157,
   "metadata": {},
   "outputs": [],
   "source": [
    "names = list(matrix_2_2.columns)\n",
    "matrix_2_2 = matrix_2_2.values.tolist()\n",
    "matrix_2_3 = matrix_2_3.values.tolist()"
   ]
  },
  {
   "cell_type": "code",
   "execution_count": 133,
   "metadata": {},
   "outputs": [],
   "source": [
    "matrix = df_plot.corr()\n",
    "matrix[matrix < 0] = 0\n",
    "matrix = matrix.multiply(100).astype(int)\n",
    "matrix[matrix == 100] = 0\n",
    "matrix = matrix.values.tolist()\n",
    "names = list(df_plot.columns)"
   ]
  },
  {
   "cell_type": "code",
   "execution_count": 134,
   "metadata": {},
   "outputs": [],
   "source": [
    "width = 1000"
   ]
  },
  {
   "cell_type": "code",
   "execution_count": 159,
   "metadata": {},
   "outputs": [],
   "source": [
    "names = [f'{i}: {j}' for i,j in zip(names,maxi)]"
   ]
  },
  {
   "cell_type": "code",
   "execution_count": null,
   "metadata": {},
   "outputs": [],
   "source": [
    "<iframe width = \"1000\" height=\"1000\" seamless frameborder=\"0\" scrolling = \"no\" src=\"./images/hard_skills_chord.html\"></iframe>"
   ]
  },
  {
   "cell_type": "code",
   "execution_count": 161,
   "metadata": {},
   "outputs": [
    {
     "data": {
      "text/html": [
       "\n",
       "        <iframe\n",
       "            width=\"1000\"\n",
       "            height=\"1000\"\n",
       "            src=\"./out.html\"\n",
       "            frameborder=\"0\"\n",
       "            allowfullscreen\n",
       "        ></iframe>\n",
       "        "
      ],
      "text/plain": [
       "<IPython.lib.display.IFrame at 0x7ff0c3b94290>"
      ]
     },
     "execution_count": 161,
     "metadata": {},
     "output_type": "execute_result"
    }
   ],
   "source": [
    "plot = Chord(matrix_2_2,names,\n",
    "                    colors=\"d3.schemePaired\",\n",
    "                    opacity=0.7,\n",
    "                    padding=0.05,\n",
    "                    width=width,\n",
    "                    label_color=\"#454545\",\n",
    "                    wrap_labels=False,\n",
    "                    margin=0,\n",
    "                    credit=False,\n",
    "                    font_size=\"12px\",\n",
    "                    font_size_large=\"14px\").to_html()\n",
    "\n",
    "IFrame(src=\"./out.html\", width=width, height=width)"
   ]
  },
  {
   "cell_type": "code",
   "execution_count": 87,
   "metadata": {},
   "outputs": [
    {
     "data": {
      "text/html": [
       "\n",
       "        <iframe\n",
       "            width=\"1000\"\n",
       "            height=\"1000\"\n",
       "            src=\"./out.html\"\n",
       "            frameborder=\"0\"\n",
       "            allowfullscreen\n",
       "        ></iframe>\n",
       "        "
      ],
      "text/plain": [
       "<IPython.lib.display.IFrame at 0x7ff0d0d367d0>"
      ]
     },
     "execution_count": 87,
     "metadata": {},
     "output_type": "execute_result"
    }
   ],
   "source": [
    "plot = Chord(matrix_2_3,names,\n",
    "                    colors=\"d3.schemePaired\",\n",
    "                    opacity=0.7,\n",
    "                    padding=0.05,\n",
    "                    width=width,\n",
    "                    label_color=\"#454545\",\n",
    "                    wrap_labels=False,\n",
    "                    margin=0,\n",
    "                    credit=True,\n",
    "                    font_size=\"14px\",\n",
    "                    font_size_large=\"16px\").to_html()\n",
    "IFrame(src=\"./out.html\", width=width, height=width)"
   ]
  },
  {
   "cell_type": "code",
   "execution_count": null,
   "metadata": {},
   "outputs": [],
   "source": []
  },
  {
   "cell_type": "code",
   "execution_count": null,
   "metadata": {},
   "outputs": [],
   "source": []
  }
 ],
 "metadata": {
  "kernelspec": {
   "display_name": "Python 3",
   "language": "python",
   "name": "python3"
  },
  "language_info": {
   "codemirror_mode": {
    "name": "ipython",
    "version": 3
   },
   "file_extension": ".py",
   "mimetype": "text/x-python",
   "name": "python",
   "nbconvert_exporter": "python",
   "pygments_lexer": "ipython3",
   "version": "3.7.6"
  }
 },
 "nbformat": 4,
 "nbformat_minor": 4
}
